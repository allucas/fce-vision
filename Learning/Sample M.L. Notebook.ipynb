{
 "cells": [
  {
   "cell_type": "markdown",
   "metadata": {},
   "source": [
    "# Sample Machine Learning Jupyter Notebook"
   ]
  },
  {
   "cell_type": "markdown",
   "metadata": {},
   "source": [
    "This notebook serves as a very rough guideline on how to use Sklearn and Jupyter Notebook in order to perform a simple Machine Learning task. Much of the information used here was extracted from the textbook *Hands-on machine learning with Scikit-Learn and TensorFlow*"
   ]
  },
  {
   "cell_type": "markdown",
   "metadata": {},
   "source": [
    "### General Overview of the Project:\n",
    "1. Import the data and do some simple pre-processing\n",
    "2. Get a general gist of the data, but not too in depth to prevent overfitting\n",
    "3. Split the data into a training and test set (do this before any more exploratory analysis) and make sure the training set is representative of the whole dataset to prevent sampling bias in the training phase\n",
    "4. Continue performing exploratory analysis on the new training set to observe available trends\n",
    "5. Prepare the features for a machine learning algorithm (perform some max-min and standarization of features)\n",
    "6. Choose an appropriate model and evaluate it using cross-validation in the training set\n"
   ]
  },
  {
   "cell_type": "markdown",
   "metadata": {},
   "source": [
    "## Import the relevant modules and do some data wrangling and initial exploratory analysis"
   ]
  },
  {
   "cell_type": "code",
   "execution_count": 1,
   "metadata": {
    "collapsed": true
   },
   "outputs": [],
   "source": [
    "# Import the relevant modules\n",
    "%matplotlib inline\n",
    "import pandas as pd\n",
    "from sklearn.model_selection import train_test_split\n",
    "from matplotlib import pyplot as plt\n",
    "import numpy as np\n",
    "import sklearn"
   ]
  },
  {
   "cell_type": "code",
   "execution_count": 2,
   "metadata": {},
   "outputs": [
    {
     "data": {
      "text/html": [
       "<div>\n",
       "<table border=\"1\" class=\"dataframe\">\n",
       "  <thead>\n",
       "    <tr style=\"text-align: right;\">\n",
       "      <th></th>\n",
       "      <th>age</th>\n",
       "      <th>sex</th>\n",
       "      <th>cp</th>\n",
       "      <th>trestbps</th>\n",
       "      <th>chol</th>\n",
       "      <th>fbs</th>\n",
       "      <th>restecg</th>\n",
       "      <th>thalach</th>\n",
       "      <th>exang</th>\n",
       "      <th>oldpeak</th>\n",
       "      <th>slope</th>\n",
       "      <th>ca</th>\n",
       "      <th>thal</th>\n",
       "      <th>num</th>\n",
       "    </tr>\n",
       "  </thead>\n",
       "  <tbody>\n",
       "    <tr>\n",
       "      <th>0</th>\n",
       "      <td>67.0</td>\n",
       "      <td>1.0</td>\n",
       "      <td>4.0</td>\n",
       "      <td>160.0</td>\n",
       "      <td>286.0</td>\n",
       "      <td>0.0</td>\n",
       "      <td>2.0</td>\n",
       "      <td>108.0</td>\n",
       "      <td>1.0</td>\n",
       "      <td>1.5</td>\n",
       "      <td>2.0</td>\n",
       "      <td>3.0</td>\n",
       "      <td>3.0</td>\n",
       "      <td>2</td>\n",
       "    </tr>\n",
       "    <tr>\n",
       "      <th>1</th>\n",
       "      <td>67.0</td>\n",
       "      <td>1.0</td>\n",
       "      <td>4.0</td>\n",
       "      <td>120.0</td>\n",
       "      <td>229.0</td>\n",
       "      <td>0.0</td>\n",
       "      <td>2.0</td>\n",
       "      <td>129.0</td>\n",
       "      <td>1.0</td>\n",
       "      <td>2.6</td>\n",
       "      <td>2.0</td>\n",
       "      <td>2.0</td>\n",
       "      <td>7.0</td>\n",
       "      <td>1</td>\n",
       "    </tr>\n",
       "    <tr>\n",
       "      <th>2</th>\n",
       "      <td>37.0</td>\n",
       "      <td>1.0</td>\n",
       "      <td>3.0</td>\n",
       "      <td>130.0</td>\n",
       "      <td>250.0</td>\n",
       "      <td>0.0</td>\n",
       "      <td>0.0</td>\n",
       "      <td>187.0</td>\n",
       "      <td>0.0</td>\n",
       "      <td>3.5</td>\n",
       "      <td>3.0</td>\n",
       "      <td>0.0</td>\n",
       "      <td>3.0</td>\n",
       "      <td>0</td>\n",
       "    </tr>\n",
       "    <tr>\n",
       "      <th>3</th>\n",
       "      <td>41.0</td>\n",
       "      <td>0.0</td>\n",
       "      <td>2.0</td>\n",
       "      <td>130.0</td>\n",
       "      <td>204.0</td>\n",
       "      <td>0.0</td>\n",
       "      <td>2.0</td>\n",
       "      <td>172.0</td>\n",
       "      <td>0.0</td>\n",
       "      <td>1.4</td>\n",
       "      <td>1.0</td>\n",
       "      <td>0.0</td>\n",
       "      <td>3.0</td>\n",
       "      <td>0</td>\n",
       "    </tr>\n",
       "    <tr>\n",
       "      <th>4</th>\n",
       "      <td>56.0</td>\n",
       "      <td>1.0</td>\n",
       "      <td>2.0</td>\n",
       "      <td>120.0</td>\n",
       "      <td>236.0</td>\n",
       "      <td>0.0</td>\n",
       "      <td>0.0</td>\n",
       "      <td>178.0</td>\n",
       "      <td>0.0</td>\n",
       "      <td>0.8</td>\n",
       "      <td>1.0</td>\n",
       "      <td>0.0</td>\n",
       "      <td>3.0</td>\n",
       "      <td>0</td>\n",
       "    </tr>\n",
       "  </tbody>\n",
       "</table>\n",
       "</div>"
      ],
      "text/plain": [
       "    age  sex   cp  trestbps   chol  fbs  restecg  thalach  exang  oldpeak  \\\n",
       "0  67.0  1.0  4.0     160.0  286.0  0.0      2.0    108.0    1.0      1.5   \n",
       "1  67.0  1.0  4.0     120.0  229.0  0.0      2.0    129.0    1.0      2.6   \n",
       "2  37.0  1.0  3.0     130.0  250.0  0.0      0.0    187.0    0.0      3.5   \n",
       "3  41.0  0.0  2.0     130.0  204.0  0.0      2.0    172.0    0.0      1.4   \n",
       "4  56.0  1.0  2.0     120.0  236.0  0.0      0.0    178.0    0.0      0.8   \n",
       "\n",
       "   slope   ca thal  num  \n",
       "0    2.0  3.0  3.0    2  \n",
       "1    2.0  2.0  7.0    1  \n",
       "2    3.0  0.0  3.0    0  \n",
       "3    1.0  0.0  3.0    0  \n",
       "4    1.0  0.0  3.0    0  "
      ]
     },
     "execution_count": 2,
     "metadata": {},
     "output_type": "execute_result"
    }
   ],
   "source": [
    "# Import the Cleveland Data Frame and format the columns\n",
    "df_cd = pd.read_csv('processed_cleveland_data.csv')\n",
    "df_cd.columns = ['age','sex','cp','trestbps','chol','fbs','restecg','thalach','exang','oldpeak','slope','ca','thal','num']\n",
    "df_cd.head()"
   ]
  },
  {
   "cell_type": "code",
   "execution_count": 3,
   "metadata": {},
   "outputs": [],
   "source": [
    "# The data has some question marks on some entries. Lets clean them before proceeding\n",
    "df_cd = df_cd.drop(df_cd[df_cd.values=='?'].index.values)"
   ]
  },
  {
   "cell_type": "code",
   "execution_count": 4,
   "metadata": {},
   "outputs": [
    {
     "data": {
      "image/png": "[encoded data removed]",
      "text/plain": [
       "<matplotlib.figure.Figure at 0x113de4518>"
      ]
     },
     "metadata": {},
     "output_type": "display_data"
    },
    {
     "data": {
      "image/png": "[encoded data removed]",
      "text/plain": [
       "<matplotlib.figure.Figure at 0x113de4fd0>"
      ]
     },
     "metadata": {},
     "output_type": "display_data"
    }
   ],
   "source": [
    "# Create a testing and training set based on the data\n",
    "train_set, test_set = train_test_split(df_cd, test_size=0.2, random_state=42)\n",
    "plt.hist(test_set['age'])\n",
    "plt.title('Test Set Age Distribution')\n",
    "plt.ylabel('Age')\n",
    "plt.figure()\n",
    "plt.hist(train_set['age'])\n",
    "plt.title('Train Set Age Distribution')\n",
    "plt.ylabel('Age')\n",
    "sample_data = train_set.copy()"
   ]
  },
  {
   "cell_type": "code",
   "execution_count": 5,
   "metadata": {},
   "outputs": [
    {
     "data": {
      "image/png": "[encoded data removed]",
      "text/plain": [
       "<matplotlib.figure.Figure at 0x113de4a58>"
      ]
     },
     "metadata": {},
     "output_type": "display_data"
    }
   ],
   "source": [
    "# Perform an illustrative plot\n",
    "ax = df_cd.plot(kind='scatter',x='age',y='chol',alpha=0.4,c='num', cmap=plt.get_cmap('jet'))"
   ]
  },
  {
   "cell_type": "markdown",
   "metadata": {},
   "source": [
    "The older one seems to be, the likelier one seems to be prone to have heart disease "
   ]
  },
  {
   "cell_type": "code",
   "execution_count": 6,
   "metadata": {},
   "outputs": [],
   "source": [
    "def create_bin_feature(df,feature):\n",
    "    # Create a binary variable for the heart disease attribute that only depends on values of 0 and 1\n",
    "    for i in df.index.values:\n",
    "        bin_feat = int(df[feature].loc[i]>0)\n",
    "        return bin_feat\n",
    "        "
   ]
  },
  {
   "cell_type": "code",
   "execution_count": 7,
   "metadata": {},
   "outputs": [
    {
     "name": "stdout",
     "output_type": "stream",
     "text": [
      "num         1.000000\n",
      "oldpeak     0.443542\n",
      "exang       0.423196\n",
      "cp          0.387739\n",
      "slope       0.357200\n",
      "sex         0.253609\n",
      "age         0.194462\n",
      "restecg     0.144002\n",
      "trestbps    0.107155\n",
      "fbs         0.016345\n",
      "chol        0.012280\n",
      "thalach    -0.402890\n",
      "Name: num, dtype: float64\n"
     ]
    }
   ],
   "source": [
    "'''Create a correlation matrix for the values and do some exploration in order to \n",
    "observe correlations'''\n",
    "corr_mat = sample_data.corr()\n",
    "# print(corr_mat['num_bin'].sort_values(ascending=False))\n",
    "print(corr_mat['num'].sort_values(ascending=False))"
   ]
  },
  {
   "cell_type": "code",
   "execution_count": 8,
   "metadata": {},
   "outputs": [],
   "source": [
    "# Replace the current label num, which is categorical, with a binary feature\n",
    "#test_set['num'] = create_bin_feature(test_set,'num')\n",
    "#train_set['num'] = create_bin_feature(train_set,'num')"
   ]
  },
  {
   "cell_type": "markdown",
   "metadata": {},
   "source": [
    "## Create and Scikit encoder in order to do a feature normalization\n",
    "In this case a min-max normalization will be performed to prepare the features for the ML algorithm to be used"
   ]
  },
  {
   "cell_type": "code",
   "execution_count": 9,
   "metadata": {},
   "outputs": [],
   "source": [
    "def perform_min_max(df):\n",
    "    import sklearn\n",
    "    min_max_scaler = sklearn.preprocessing.MinMaxScaler() # Define the encoder object\n",
    "    scaled_features = min_max_scaler.fit_transform(df) # Fit and transform the features using the encoder\n",
    "    df_scaled = pd.DataFrame(data = scaled_features, index = df.index.values, columns = df.columns)\n",
    "    return df_scaled\n",
    "\n",
    "sample_data_scaled = perform_min_max(sample_data)\n"
   ]
  },
  {
   "cell_type": "code",
   "execution_count": null,
   "metadata": {},
   "outputs": [],
   "source": []
  },
  {
   "cell_type": "markdown",
   "metadata": {},
   "source": [
    "Compare the correlations between the original and normalized features when predicting the goal attribute\n"
   ]
  },
  {
   "cell_type": "code",
   "execution_count": 10,
   "metadata": {},
   "outputs": [
    {
     "name": "stdout",
     "output_type": "stream",
     "text": [
      "Correlations for the original features: \n",
      "  num         1.000000\n",
      "oldpeak     0.443542\n",
      "exang       0.423196\n",
      "cp          0.387739\n",
      "slope       0.357200\n",
      "sex         0.253609\n",
      "age         0.194462\n",
      "restecg     0.144002\n",
      "trestbps    0.107155\n",
      "fbs         0.016345\n",
      "chol        0.012280\n",
      "thalach    -0.402890\n",
      "Name: num, dtype: float64\n",
      "Correlations for the scaled features: \n",
      "  num         1.000000\n",
      "ca          0.511769\n",
      "thal        0.475884\n",
      "oldpeak     0.443542\n",
      "exang       0.423196\n",
      "cp          0.387739\n",
      "slope       0.357200\n",
      "sex         0.253609\n",
      "age         0.194462\n",
      "restecg     0.144002\n",
      "trestbps    0.107155\n",
      "fbs         0.016345\n",
      "chol        0.012280\n",
      "thalach    -0.402890\n",
      "Name: num, dtype: float64\n"
     ]
    }
   ],
   "source": [
    "print('Correlations for the original features: \\n ', corr_mat['num'].sort_values(ascending=False))\n",
    "scaled_corr_mat = sample_data_scaled.corr()\n",
    "print('Correlations for the scaled features: \\n ', scaled_corr_mat['num'].sort_values(ascending=False))\n"
   ]
  },
  {
   "cell_type": "markdown",
   "metadata": {},
   "source": [
    "There should not be a difference when comparing the correlations between the normalized features and the original ones. The normalization is necessary for the ML algorithm, since they tend to weight more those features that have larger values.\n",
    "\n",
    "Now let's separate the training and test set into the labels and features for the model"
   ]
  },
  {
   "cell_type": "code",
   "execution_count": 11,
   "metadata": {},
   "outputs": [],
   "source": [
    "def separate_data(df,name):\n",
    "    labels = df[name]\n",
    "    features = df.drop(name,axis=1)\n",
    "    return features, labels\n",
    "\n",
    "train_features, train_labels = separate_data(train_set,'num')\n",
    "test_features, test_labels = separate_data(test_set,'num')\n",
    "train_features = perform_min_max(train_features)\n",
    "test_features = perform_min_max(test_features)"
   ]
  },
  {
   "cell_type": "markdown",
   "metadata": {},
   "source": [
    "# Choosing the right ML Model"
   ]
  },
  {
   "cell_type": "markdown",
   "metadata": {},
   "source": [
    "Peform a simple OLS on the data and then find how much each of the features is being weighted in the model, compare the result the to only using one feature, based on the value for the RMSE"
   ]
  },
  {
   "cell_type": "code",
   "execution_count": 12,
   "metadata": {},
   "outputs": [
    {
     "name": "stdout",
     "output_type": "stream",
     "text": [
      "age = -0.409751788772\n",
      "sex = 0.185422281673\n",
      "cp = 0.437092695057\n",
      "trestbps = 0.425268305537\n",
      "chol = -0.229092124528\n",
      "fbs = -0.165196083868\n",
      "restecg = 0.192096668727\n",
      "thalach = -0.672893858743\n",
      "exang = 0.3050554467\n",
      "oldpeak = 0.814538726235\n",
      "slope = 0.381490615098\n",
      "ca = 1.40237014595\n",
      "thal = 0.488524955681\n"
     ]
    },
    {
     "data": {
      "image/png": "[encoded data removed]",
      "text/plain": [
       "<matplotlib.figure.Figure at 0x10f3a0550>"
      ]
     },
     "metadata": {},
     "output_type": "display_data"
    }
   ],
   "source": [
    "from sklearn.linear_model import LinearRegression\n",
    "\n",
    "lin_reg = LinearRegression()\n",
    "lin_reg.fit(train_features, train_labels)\n",
    "prediction = lin_reg.predict(test_features)\n",
    "\n",
    "plt.scatter(prediction,test_labels.values,alpha=0.4)\n",
    "plt.scatter(test_labels.values,test_labels.values)\n",
    "plt.legend('PR')\n",
    "for i in range(len(train_features.columns)):\n",
    "    print(train_features.columns[i],'=',lin_reg.coef_[i])"
   ]
  },
  {
   "cell_type": "markdown",
   "metadata": {},
   "source": [
    "Check the RMSE between the predicted values and the actual labels using the linear model"
   ]
  },
  {
   "cell_type": "code",
   "execution_count": 23,
   "metadata": {},
   "outputs": [
    {
     "name": "stdout",
     "output_type": "stream",
     "text": [
      "RMSE from the OLS: 0.714499027327\n"
     ]
    }
   ],
   "source": [
    "from sklearn.metrics import mean_squared_error\n",
    "ms_error = mean_squared_error(test_labels,prediction)\n",
    "rmse = np.sqrt(ms_error)\n",
    "print('RMSE from the OLS:',rmse)"
   ]
  },
  {
   "cell_type": "markdown",
   "metadata": {},
   "source": [
    "Now test a Decision Tree Regressor model and compare the results"
   ]
  },
  {
   "cell_type": "code",
   "execution_count": 22,
   "metadata": {},
   "outputs": [
    {
     "name": "stdout",
     "output_type": "stream",
     "text": [
      "RMSE from the Decision Tree Regressor model:  1.31656117721\n"
     ]
    }
   ],
   "source": [
    "from sklearn.tree import DecisionTreeRegressor\n",
    "tree_reg = DecisionTreeRegressor()\n",
    "tree_reg.fit(train_features, train_labels)\n",
    "predictions_tree = tree_reg.predict(test_features)\n",
    "ms_error_tree = mean_squared_error(test_labels,predictions_tree)\n",
    "rmse_tree = np.sqrt(ms_error_tree)\n",
    "print('RMSE from the Decision Tree Regressor model: ',rmse_tree)"
   ]
  },
  {
   "cell_type": "markdown",
   "metadata": {},
   "source": [
    "From the RMSE the OLS seems to perform better than the decision tree regressor, however, a cross-validation is necessary to properly evaluate whether the model is behaving properly or not"
   ]
  },
  {
   "cell_type": "markdown",
   "metadata": {},
   "source": [
    "# Performing Cross-Validation to test the accuracy of the chosen models"
   ]
  },
  {
   "cell_type": "markdown",
   "metadata": {},
   "source": [
    "The code below performs a K-fold cross-validation given a trained model, the training set features and labels. The algorithms performs the cross-validation based on a utility function instead of cost function, so the negative of the obtained scores must be used. Each result corresponds to the rmse for each of the folds in the cross-validation algorithm"
   ]
  },
  {
   "cell_type": "code",
   "execution_count": 34,
   "metadata": {},
   "outputs": [
    {
     "name": "stdout",
     "output_type": "stream",
     "text": [
      "Scores obtained using a Random Tree Regressor:\n",
      "Scores: [ 1.          1.60727513  1.41421356  1.20761473  1.30703226  1.02062073\n",
      "  1.75697368  0.83405766  1.4295028   1.5742493 ]\n",
      "Mean: 1.31515398504\n",
      "SD: 0.282792229217\n",
      "\n",
      "Scores obtained using a Linear Regression:\n",
      "Scores: [ 0.6826044   0.92842991  0.98445625  0.86034746  0.74705868  0.87227463\n",
      "  1.29934812  0.57271542  0.92920228  0.971432  ]\n",
      "Mean: 0.884786913852\n",
      "SD: 0.187395056497\n"
     ]
    }
   ],
   "source": [
    "def disp_cross_scores(scores):\n",
    "    print('Scores:',scores)\n",
    "    print('Mean:',np.mean(scores))\n",
    "    print('SD:',np.std(scores))\n",
    "from sklearn.model_selection import cross_val_score\n",
    "scores_lin = cross_val_score(lin_reg, train_features, train_labels,\n",
    "                         scoring=\"neg_mean_squared_error\", cv=10)\n",
    "scores_tree = cross_val_score(tree_reg, train_features, train_labels,\n",
    "                         scoring=\"neg_mean_squared_error\", cv=10)\n",
    "print('Scores obtained using a Random Tree Regressor:')\n",
    "tree_rmse_scores = np.sqrt(-scores_tree)\n",
    "disp_cross_scores(tree_rmse_scores)\n",
    "\n",
    "print('\\nScores obtained using a Linear Regression:')\n",
    "lin_rmse_scores = np.sqrt(-scores_lin)\n",
    "disp_cross_scores(lin_rmse_scores)"
   ]
  },
  {
   "cell_type": "markdown",
   "metadata": {},
   "source": [
    "From the K-fold cross-validation we could observe that in fact the random tree regressor performed worse than the linear regression. However, the mean value obtained from the linear regression cross-validation scores is larger than the individual RMSE value obtained using only one test and training"
   ]
  },
  {
   "cell_type": "markdown",
   "metadata": {},
   "source": [
    "## Fine tuning the model\n",
    "To fine tune the model a **grid search** approach which is found in Scikit can be used in order to explore multiple hyperparameters at once, allowing to find the optimal values of interest"
   ]
  },
  {
   "cell_type": "code",
   "execution_count": 76,
   "metadata": {},
   "outputs": [
    {
     "name": "stdout",
     "output_type": "stream",
     "text": [
      "1.09339840117 {'max_leaf_nodes': 2, 'max_features': 2}\n",
      "1.05764217042 {'max_leaf_nodes': 3, 'max_features': 2}\n",
      "1.04601712797 {'max_leaf_nodes': 10, 'max_features': 2}\n",
      "1.20646235949 {'max_leaf_nodes': 30, 'max_features': 2}\n",
      "1.10378835605 {'max_leaf_nodes': 2, 'max_features': 4}\n",
      "1.07457289 {'max_leaf_nodes': 3, 'max_features': 4}\n",
      "1.07638072269 {'max_leaf_nodes': 10, 'max_features': 4}\n",
      "1.14619464279 {'max_leaf_nodes': 30, 'max_features': 4}\n",
      "1.12866703367 {'max_leaf_nodes': 2, 'max_features': 6}\n",
      "1.07522138851 {'max_leaf_nodes': 3, 'max_features': 6}\n",
      "1.04924955222 {'max_leaf_nodes': 10, 'max_features': 6}\n",
      "1.29414401198 {'max_leaf_nodes': 30, 'max_features': 6}\n",
      "1.08741356301 {'max_leaf_nodes': 2, 'max_features': 8}\n",
      "1.03435482478 {'max_leaf_nodes': 3, 'max_features': 8}\n",
      "1.09177705388 {'max_leaf_nodes': 10, 'max_features': 8}\n",
      "1.30232653242 {'max_leaf_nodes': 30, 'max_features': 8}\n",
      "1.08711110191 {'max_leaf_nodes': 2, 'max_features': 10}\n",
      "1.05609382342 {'max_leaf_nodes': 3, 'max_features': 10}\n",
      "1.04491295252 {'max_leaf_nodes': 10, 'max_features': 10}\n",
      "1.21571350919 {'max_leaf_nodes': 30, 'max_features': 10}\n",
      "1.10009049372 {'max_leaf_nodes': 2, 'max_features': 12}\n",
      "1.06404466081 {'max_leaf_nodes': 3, 'max_features': 12}\n",
      "1.15273311844 {'max_leaf_nodes': 10, 'max_features': 12}\n",
      "1.35016459022 {'max_leaf_nodes': 30, 'max_features': 12}\n"
     ]
    }
   ],
   "source": [
    "from sklearn.model_selection import GridSearchCV\n",
    "param_grid = [\n",
    "    {'max_leaf_nodes': [2 ,3, 10, 30],'max_features': [2, 4, 6, 8, 10, 12]}\n",
    "  ]\n",
    "tree_reg = DecisionTreeRegressor()\n",
    "grid_search = GridSearchCV(tree_reg, param_grid, cv=5,\n",
    "                           scoring='neg_mean_squared_error')\n",
    "grid_search.fit(train_features,train_labels)\n",
    "\n",
    "# Print the resulting RMSE scores and the chosen hyperparameters\n",
    "cvres = grid_search.cv_results_\n",
    "for mean_score, params in zip(cvres[\"mean_test_score\"], cvres[\"params\"]):\n",
    "    print(np.sqrt(-mean_score), params)\n",
    "    "
   ]
  },
  {
   "cell_type": "markdown",
   "metadata": {},
   "source": [
    "Apply the results obtained using the Grid Search to the model in and attempt it in the test set"
   ]
  },
  {
   "cell_type": "code",
   "execution_count": 97,
   "metadata": {},
   "outputs": [
    {
     "name": "stdout",
     "output_type": "stream",
     "text": [
      "RMSE from the prediction of the test data with the fine tuned model:\n",
      " 1.08688258916\n"
     ]
    }
   ],
   "source": [
    "tuned_decision_tree = DecisionTreeRegressor(max_features=grid_search.best_params_['max_features'],max_leaf_nodes = grid_search.best_params_['max_leaf_nodes'])\n",
    "tuned_decision_tree.fit(train_features,train_labels)\n",
    "prediction_tuned = tuned_decision_tree.predict(test_features)\n",
    "\n",
    "rmse_test = np.sqrt(mean_squared_error(prediction_tuned, test_labels))\n",
    "print('RMSE from the prediction of the test data with the fine tuned model:\\n',rmse_test)\n"
   ]
  },
  {
   "cell_type": "code",
   "execution_count": 86,
   "metadata": {},
   "outputs": [
    {
     "data": {
      "text/plain": [
       "{'max_features': 8, 'max_leaf_nodes': 3}"
      ]
     },
     "execution_count": 86,
     "metadata": {},
     "output_type": "execute_result"
    }
   ],
   "source": []
  }
 ],
 "metadata": {
  "kernelspec": {
   "display_name": "Python 3",
   "language": "python",
   "name": "python3"
  },
  "language_info": {
   "codemirror_mode": {
    "name": "ipython",
    "version": 3
   },
   "file_extension": ".py",
   "mimetype": "text/x-python",
   "name": "python",
   "nbconvert_exporter": "python",
   "pygments_lexer": "ipython3",
   "version": "3.5.3"
  }
 },
 "nbformat": 4,
 "nbformat_minor": 2
}
