{
 "cells": [
  {
   "cell_type": "markdown",
   "metadata": {},
   "source": [
    "# Image classification performed on the MNIST dataset"
   ]
  },
  {
   "cell_type": "markdown",
   "metadata": {},
   "source": [
    "## Preparing the data\n",
    "First we load the MNIST dataset using Sklearn helper"
   ]
  },
  {
   "cell_type": "code",
   "execution_count": 1,
   "metadata": {},
   "outputs": [
    {
     "data": {
      "text/plain": [
       "{'COL_NAMES': ['label', 'data'],\n",
       " 'DESCR': 'mldata.org dataset: mnist-original',\n",
       " 'data': array([[0, 0, 0, ..., 0, 0, 0],\n",
       "        [0, 0, 0, ..., 0, 0, 0],\n",
       "        [0, 0, 0, ..., 0, 0, 0],\n",
       "        ..., \n",
       "        [0, 0, 0, ..., 0, 0, 0],\n",
       "        [0, 0, 0, ..., 0, 0, 0],\n",
       "        [0, 0, 0, ..., 0, 0, 0]], dtype=uint8),\n",
       " 'target': array([ 0.,  0.,  0., ...,  9.,  9.,  9.])}"
      ]
     },
     "execution_count": 1,
     "metadata": {},
     "output_type": "execute_result"
    }
   ],
   "source": [
    "%matplotlib inline\n",
    "import numpy as np\n",
    "import matplotlib\n",
    "from matplotlib import pyplot as plt\n",
    "from sklearn.datasets import fetch_mldata\n",
    "mnist = fetch_mldata('MNIST original')\n",
    "mnist"
   ]
  },
  {
   "cell_type": "markdown",
   "metadata": {},
   "source": [
    "Segmentize the dataset into the features X and the labels y and show a sample digit. The MNIST data is stored in vectors (i.e. every 2D image is stored in a 1D vector of intensity values)"
   ]
  },
  {
   "cell_type": "code",
   "execution_count": 2,
   "metadata": {},
   "outputs": [
    {
     "data": {
      "text/plain": [
       "(-0.5, 27.5, 27.5, -0.5)"
      ]
     },
     "execution_count": 2,
     "metadata": {},
     "output_type": "execute_result"
    },
    {
     "data": {
      "image/png": "[encoded data removed]",
      "text/plain": [
       "<matplotlib.figure.Figure at 0x1174f7e48>"
      ]
     },
     "metadata": {},
     "output_type": "display_data"
    }
   ],
   "source": [
    "X,y = mnist['data'], mnist['target']\n",
    "img = np.reshape(X[0,:],(28,28))\n",
    "plt.imshow(img,  cmap=matplotlib.cm.binary)\n",
    "plt.axis('off')"
   ]
  },
  {
   "cell_type": "markdown",
   "metadata": {},
   "source": [
    "Separate the dataset into a test and training set and then shuffle the training set to ensure that each cross-validation fold contains sufficient examples from each number"
   ]
  },
  {
   "cell_type": "code",
   "execution_count": 3,
   "metadata": {
    "collapsed": true
   },
   "outputs": [],
   "source": [
    "X_train, X_test, y_train, y_test = X[:60000], X[60000:], y[:60000], y[60000:]\n",
    "shuffle_idx = np.random.permutation(60000)\n",
    "X_train, y_train = X_train[shuffle_idx], y_train[shuffle_idx]"
   ]
  },
  {
   "cell_type": "markdown",
   "metadata": {},
   "source": [
    "## Binary Classification"
   ]
  },
  {
   "cell_type": "markdown",
   "metadata": {},
   "source": [
    "We will first try to identify one digit using a Stochastic Gradient Descent (SGD) classifier (for use in classification, which is different from a regressor, https://en.wikipedia.org/wiki/Stochastic_gradient_descent) and evaluate the performance of the model, however, keep in mind that it is different to evaluate a classifier than a regressor"
   ]
  },
  {
   "cell_type": "code",
   "execution_count": 4,
   "metadata": {},
   "outputs": [
    {
     "name": "stderr",
     "output_type": "stream",
     "text": [
      "/anaconda/lib/python3.5/site-packages/sklearn/utils/validation.py:395: DeprecationWarning: Passing 1d arrays as data is deprecated in 0.17 and will raise ValueError in 0.19. Reshape your data either using X.reshape(-1, 1) if your data has a single feature or X.reshape(1, -1) if it contains a single sample.\n",
      "  DeprecationWarning)\n"
     ]
    },
    {
     "data": {
      "text/plain": [
       "array([ True], dtype=bool)"
      ]
     },
     "execution_count": 4,
     "metadata": {},
     "output_type": "execute_result"
    }
   ],
   "source": [
    "# Define the labels for the digit 5\n",
    "y_train_0 = (y_train==0)\n",
    "y_test_0 = (y_test==0)\n",
    "\n",
    "from sklearn.linear_model import SGDClassifier\n",
    "\n",
    "sgd_clf = SGDClassifier(random_state=42)\n",
    "sgd_clf.fit(X_train, y_train_0)\n",
    "sgd_clf.predict(X_test[0,:])"
   ]
  },
  {
   "cell_type": "markdown",
   "metadata": {},
   "source": [
    "Evaluating the performance of the classifier using cross-validation. When using the cross_val_score function from sklearn the algorithm outputs the RMSE or the percentage accuracy of classification depending on the type of algorithm being used (regression or classification)"
   ]
  },
  {
   "cell_type": "code",
   "execution_count": 5,
   "metadata": {},
   "outputs": [
    {
     "data": {
      "text/plain": [
       "array([ 0.9880006 ,  0.9849    ,  0.98354918])"
      ]
     },
     "execution_count": 5,
     "metadata": {},
     "output_type": "execute_result"
    }
   ],
   "source": [
    "from sklearn.model_selection import StratifiedKFold\n",
    "from sklearn.base import clone\n",
    "from sklearn.model_selection import cross_val_score\n",
    "'''\n",
    "skfolds = StratifiedKFold(n_splits=3, random_state=42)\n",
    "\n",
    "for train_index, test_index in skfolds.split(X_train, y_train_0):\n",
    "    clone_clf = clone(sgd_clf)\n",
    "    X_train_folds = X_train[train_index]\n",
    "    y_train_folds = (y_train_5[train_index])\n",
    "    X_test_fold = X_train[test_index]\n",
    "    y_test_fold = (y_train_5[test_index])\n",
    "\n",
    "    clone_clf.fit(X_train_folds, y_train_folds)\n",
    "    y_pred = clone_clf.predict(X_test_fold)\n",
    "    n_correct = sum(y_pred == y_test_fold)\n",
    "    print(n_correct / len(y_pred))  # prints 0.9502, 0.96565 and 0.96495\n",
    "    \n",
    "    # Hard coded cross-validation algorithm\n",
    "    '''\n",
    "cross_val_score(sgd_clf, X_train, y_train_0, cv=3)"
   ]
  },
  {
   "cell_type": "markdown",
   "metadata": {},
   "source": [
    "This gives above 95% accuracy for the predictions made by this model. However, accuracy is usually not a good predictor of the performance of a classification algorithm, specially when the data is skewed or some classes are more common than others. For example, what would happen if one always says its never 0"
   ]
  },
  {
   "cell_type": "code",
   "execution_count": 6,
   "metadata": {},
   "outputs": [
    {
     "data": {
      "text/plain": [
       "array([ 0.90105,  0.9022 ,  0.9006 ])"
      ]
     },
     "execution_count": 6,
     "metadata": {},
     "output_type": "execute_result"
    }
   ],
   "source": [
    "# This code makes our own sklearn estimator for never predicting 0\n",
    "from sklearn.base import BaseEstimator\n",
    "class never_zero(BaseEstimator):\n",
    "    def fit(self, X, y=None):\n",
    "        pass\n",
    "    def predict(self, X):\n",
    "        return np.zeros((len(X),1), dtype=bool)\n",
    "never_zero_clf = never_zero()\n",
    "cross_val_score(never_zero_clf, X_train, y_train_0, cv=3, scoring='accuracy')"
   ]
  },
  {
   "cell_type": "markdown",
   "metadata": {},
   "source": [
    "The obtained accuracy is still very good, showing that accuracy might not be the best performance estimator for classification"
   ]
  },
  {
   "cell_type": "markdown",
   "metadata": {},
   "source": [
    "## Using a confusion matrix to evaluate the model performance"
   ]
  },
  {
   "cell_type": "code",
   "execution_count": 51,
   "metadata": {
    "collapsed": true
   },
   "outputs": [],
   "source": [
    "from sklearn.model_selection import cross_val_predict\n",
    "y_train_pred = cross_val_predict(sgd_clf, X_train, y_train_0, cv=3)"
   ]
  },
  {
   "cell_type": "markdown",
   "metadata": {},
   "source": [
    "Cross-val predict gives you the predictions for each fold in the training set without using the data from that fold to train, that is, say you select 3 as the number of folds, the algorithm trains in the first 2 folds, and predicts on the 3rd fold and so on, such that the predicted data was always obtained using fresh trained data.\n",
    "\n",
    "Then, given these results one can do a confusion matrix which has the format in binary classification: the count of true negatives is C_{0,0}, false negatives is C_{1,0}, true positives is C_{1,1} and false positives is C_{0,1}. Also the predicted class goes on the x direction and the actual class in the y direction"
   ]
  },
  {
   "cell_type": "code",
   "execution_count": 8,
   "metadata": {},
   "outputs": [
    {
     "data": {
      "text/plain": [
       "array([[53795,   282],\n",
       "       [  589,  5334]])"
      ]
     },
     "execution_count": 8,
     "metadata": {},
     "output_type": "execute_result"
    }
   ],
   "source": [
    "from sklearn.metrics import confusion_matrix\n",
    "confusion_matrix(y_train_0, y_train_pred)"
   ]
  },
  {
   "cell_type": "markdown",
   "metadata": {},
   "source": [
    "Based on the results of the confusion matrix it can be seen that the true positives, found in C{1,1}, are only a small number of the predictions made, compared to the number of true negatives C{0,0}. An algorithm that says no most of the time will perform well here. A measurement of the performance of the classification algorithm is given by $$presicion = \\frac{TP}{TP+FP}$$. However precision can be misleading if the number of examples present is small. Another metric used to accompany the performance of the algorithm is the true positive rate (TPR) or the recall, given by $$recall = \\frac{TP}{TP+FN}$$ which corresponds to the ratio of positive instances correctly detected by the classifier. <img src=\"https://upload.wikimedia.org/wikipedia/commons/2/26/Precisionrecall.svg\">"
   ]
  },
  {
   "cell_type": "code",
   "execution_count": 10,
   "metadata": {},
   "outputs": [
    {
     "name": "stdout",
     "output_type": "stream",
     "text": [
      "Precision: 0.949786324786\n",
      "Recall: 0.900557150093\n",
      "F1 Score: 0.92451685588\n"
     ]
    }
   ],
   "source": [
    "# Use sklearn to evaluate the classification\n",
    "from sklearn.metrics import precision_score, recall_score, f1_score\n",
    "print('Precision:',precision_score(y_train_0,y_train_pred)) \n",
    "print('Recall:', recall_score(y_train_0,y_train_pred))\n",
    "print('F1 Score:', f1_score(y_train_0,y_train_pred))"
   ]
  },
  {
   "cell_type": "markdown",
   "metadata": {
    "collapsed": true
   },
   "source": [
    "The prediction-recall tradeoff can be evaluated by changing the threshold at which predictions are made. The larger the threshold, the better the precision and the smaller the recall. If one knows the prediction scores from the binary classifier, one can then threshold these values and see how performance changes."
   ]
  },
  {
   "cell_type": "code",
   "execution_count": 32,
   "metadata": {},
   "outputs": [
    {
     "data": {
      "text/plain": [
       "<matplotlib.legend.Legend at 0x12bcbfbe0>"
      ]
     },
     "execution_count": 32,
     "metadata": {},
     "output_type": "execute_result"
    },
    {
     "data": {
      "image/png": "[encoded data removed]",
      "text/plain": [
       "<matplotlib.figure.Figure at 0x120468518>"
      ]
     },
     "metadata": {},
     "output_type": "display_data"
    }
   ],
   "source": [
    "from sklearn.metrics import precision_recall_curve\n",
    "y_scores = sgd_clf.decision_function(X_train)\n",
    "precisions,recalls, thresholds = precision_recall_curve(y_train_0, y_scores)\n",
    "plt.plot(thresholds,precisions[:-1], label='Precision')\n",
    "plt.plot(thresholds,recalls[:-1], label='Recall')\n",
    "plt.xlabel('Threshold')\n",
    "plt.legend()"
   ]
  },
  {
   "cell_type": "markdown",
   "metadata": {},
   "source": [
    "From this analysis the optimal threshold for equal recall and precision is given by:`"
   ]
  },
  {
   "cell_type": "code",
   "execution_count": 36,
   "metadata": {},
   "outputs": [
    {
     "name": "stdout",
     "output_type": "stream",
     "text": [
      "Precision: 0.940898345154\n",
      "Recall: 0.940739490123\n",
      "F1 Score: 0.940818910933\n"
     ]
    }
   ],
   "source": [
    "optimal_thresh = thresholds[precisions[:-1]==recalls[:-1]]\n",
    "y_train_pred = y_scores>optimal_thresh\n",
    "print('Precision:',precision_score(y_train_0,y_train_pred)) \n",
    "print('Recall:', recall_score(y_train_0,y_train_pred))\n",
    "print('F1 Score:', f1_score(y_train_0,y_train_pred))"
   ]
  },
  {
   "cell_type": "markdown",
   "metadata": {},
   "source": [
    "This curve shows the tradeoff between precision and recall on the different possible thresholds. Another curve that serves for this purpose is the ROC which compares the true positive rate to the false positive rate"
   ]
  },
  {
   "cell_type": "code",
   "execution_count": 28,
   "metadata": {},
   "outputs": [
    {
     "name": "stdout",
     "output_type": "stream",
     "text": [
      "The AUC is: 0.995017141393\n"
     ]
    },
    {
     "data": {
      "image/png": "[encoded data removed]",
      "text/plain": [
       "<matplotlib.figure.Figure at 0x12b6a14e0>"
      ]
     },
     "metadata": {},
     "output_type": "display_data"
    }
   ],
   "source": [
    "from sklearn.metrics import roc_curve\n",
    "from sklearn.metrics import roc_auc_score\n",
    "fpr, tpr, thresholds = roc_curve(y_train_0, y_scores)\n",
    "auc_score = roc_auc_score(y_train_0, y_scores)\n",
    "plt.plot(fpr,tpr)\n",
    "plt.plot([0,1],[0,1],'--')\n",
    "plt.xlabel('False Positive Rate')\n",
    "plt.ylabel('True Positive Rate')\n",
    "print('The AUC is:',auc_score)"
   ]
  },
  {
   "cell_type": "markdown",
   "metadata": {},
   "source": [
    "The ROC curve and the PR curve both give different insights into the data. The PR curve should be used when the data of interest is rare in order to know the tradeoff between how many of the data of interest are correctly predicted and how many of the selected elements are relevant, for example you might want to have all of the relevant events selected (a very small threshold), at the expense that many of the selected events correspond to irrelevant events. On the other hand, if there is an equal number of positive and negative scenarios, then the ROC curve can be used"
   ]
  },
  {
   "cell_type": "markdown",
   "metadata": {},
   "source": [
    "## Multiclass Classification"
   ]
  },
  {
   "cell_type": "markdown",
   "metadata": {},
   "source": [
    "Many of the same classifiers can be used in order to perform multiclass classification, for example"
   ]
  },
  {
   "cell_type": "code",
   "execution_count": 45,
   "metadata": {},
   "outputs": [
    {
     "name": "stdout",
     "output_type": "stream",
     "text": [
      "Scores before scaling: [ 0.83723255  0.87414371  0.84912737]\n"
     ]
    }
   ],
   "source": [
    "sgd_clf_multi = SGDClassifier(random_state=42)\n",
    "sgd_clf_multi.fit(X_train, y_train)\n",
    "print('Scores before scaling:',cross_val_score(sgd_clf_multi,X_train,y_train, cv=3, scoring='accuracy'))"
   ]
  },
  {
   "cell_type": "code",
   "execution_count": 44,
   "metadata": {},
   "outputs": [
    {
     "name": "stderr",
     "output_type": "stream",
     "text": [
      "/anaconda/lib/python3.5/site-packages/sklearn/utils/validation.py:429: DataConversionWarning: Data with input dtype uint8 was converted to float64 by StandardScaler.\n",
      "  warnings.warn(msg, _DataConversionWarning)\n"
     ]
    },
    {
     "name": "stdout",
     "output_type": "stream",
     "text": [
      "Scores after scaling: [ 0.90966807  0.90649532  0.9106366 ]\n"
     ]
    }
   ],
   "source": [
    "# Scale the inputs to get better accuracy\n",
    "from sklearn.preprocessing import StandardScaler\n",
    "scaler = StandardScaler()\n",
    "X_train_scaled = scaler.fit_transform(X_train.astype('float64'))\n",
    "print('Scores after scaling:',cross_val_score(sgd_clf_multi,X_train_scaled,y_train, cv=3, scoring='accuracy'))"
   ]
  },
  {
   "cell_type": "markdown",
   "metadata": {},
   "source": [
    "For multicomponent classification a confusion matrix can be confusing (pun intended) if only filled with numbers. For a multiclass confusion matrix,  Instead a visual representation of the confusion matrix might be more appropriate as follows:"
   ]
  },
  {
   "cell_type": "code",
   "execution_count": 54,
   "metadata": {},
   "outputs": [
    {
     "data": {
      "text/plain": [
       "<matplotlib.image.AxesImage at 0x1217d42b0>"
      ]
     },
     "execution_count": 54,
     "metadata": {},
     "output_type": "execute_result"
    },
    {
     "data": {
      "image/png": "[encoded data removed]",
      "text/plain": [
       "<matplotlib.figure.Figure at 0x12b41b4e0>"
      ]
     },
     "metadata": {},
     "output_type": "display_data"
    }
   ],
   "source": [
    "y_train_pred = cross_val_predict(sgd_clf_multi,X_train_scaled,y_train,cv=3)\n",
    "conf_mx = confusion_matrix(y_train,y_train_pred)\n",
    "plt.matshow(conf_mx,cmap='gray')"
   ]
  },
  {
   "cell_type": "code",
   "execution_count": 68,
   "metadata": {},
   "outputs": [
    {
     "data": {
      "text/plain": [
       "<matplotlib.image.AxesImage at 0x12181f240>"
      ]
     },
     "execution_count": 68,
     "metadata": {},
     "output_type": "execute_result"
    },
    {
     "data": {
      "image/png": "[encoded data removed]",
      "text/plain": [
       "<matplotlib.figure.Figure at 0x1217e6e48>"
      ]
     },
     "metadata": {},
     "output_type": "display_data"
    }
   ],
   "source": [
    "row_sums = conf_mx.sum(axis=1, keepdims=True)\n",
    "norm_conf_mx = conf_mx/row_sums\n",
    "np.fill_diagonal(norm_conf_mx,0)\n",
    "plt.matshow(norm_conf_mx, cmap='gray')"
   ]
  },
  {
   "cell_type": "markdown",
   "metadata": {},
   "source": [
    "Interpreting the above error matrix, and remembering that the columns represent the predicted values and the rows the actual classes, one can see that the 8 and 9 columns are bright, which tells us that many digits end up being misclassified as either 8 or 9. On the other hand, the 2 row is also relatively bright, which tells us the the 2s often get misclassified. By tuning the hyperparameters using a GridSearchCV one can imporve the performance of the algorithms. Reference the other notebook to see how to do that."
   ]
  }
 ],
 "metadata": {
  "kernelspec": {
   "display_name": "Python 3",
   "language": "python",
   "name": "python3"
  },
  "language_info": {
   "codemirror_mode": {
    "name": "ipython",
    "version": 3
   },
   "file_extension": ".py",
   "mimetype": "text/x-python",
   "name": "python",
   "nbconvert_exporter": "python",
   "pygments_lexer": "ipython3",
   "version": "3.5.3"
  }
 },
 "nbformat": 4,
 "nbformat_minor": 2
}
